{
 "cells": [
  {
   "cell_type": "code",
   "execution_count": 1,
   "id": "84016ca3-c862-4bdb-93c6-b27c91c6718e",
   "metadata": {},
   "outputs": [],
   "source": [
    "import json"
   ]
  },
  {
   "cell_type": "markdown",
   "id": "3151fd26-af0f-4d01-bf1b-14113f41ee09",
   "metadata": {},
   "source": [
    "#### Loading the data :"
   ]
  },
  {
   "cell_type": "code",
   "execution_count": 2,
   "id": "5660e7d5-a2ee-423b-996e-044518603537",
   "metadata": {},
   "outputs": [],
   "source": [
    "def load_data(filename):\n",
    "    with open(filename, \"r\") as f:\n",
    "        data = json.load(f)\n",
    "    return data    "
   ]
  },
  {
   "cell_type": "code",
   "execution_count": 3,
   "id": "11939958-7a4c-480d-99f2-7567a182d5dd",
   "metadata": {},
   "outputs": [],
   "source": [
    "data = load_data(\"data.json\")"
   ]
  },
  {
   "cell_type": "code",
   "execution_count": 4,
   "id": "8fe15e82-5092-4146-bd7e-b0cba25de11a",
   "metadata": {},
   "outputs": [
    {
     "data": {
      "text/plain": [
       "{'users': [{'id': 1, 'name': 'Amit', 'friends': [2, 3], 'liked_pages': [101]},\n",
       "  {'id': 2, 'name': 'Priya', 'friends': [1, 4], 'liked_pages': [102]},\n",
       "  {'id': 3, 'name': 'Rahul', 'friends': [1], 'liked_pages': [101, 103]},\n",
       "  {'id': 4, 'name': 'Sara', 'friends': [2], 'liked_pages': [104]}],\n",
       " 'pages': [{'id': 101, 'name': 'Python Developers'},\n",
       "  {'id': 102, 'name': 'Data Science Enthusiasts'},\n",
       "  {'id': 103, 'name': 'AI & ML Community'},\n",
       "  {'id': 104, 'name': 'Web Dev Hub'}]}"
      ]
     },
     "execution_count": 4,
     "metadata": {},
     "output_type": "execute_result"
    }
   ],
   "source": [
    "data"
   ]
  },
  {
   "cell_type": "code",
   "execution_count": 5,
   "id": "5c9508e7-378a-4954-8ea5-28401662fa92",
   "metadata": {},
   "outputs": [
    {
     "data": {
      "text/plain": [
       "dict"
      ]
     },
     "execution_count": 5,
     "metadata": {},
     "output_type": "execute_result"
    }
   ],
   "source": [
    "type(data)"
   ]
  },
  {
   "cell_type": "markdown",
   "id": "06a47c43-79a3-4bac-ae29-a2a70ae4195c",
   "metadata": {},
   "source": [
    "#### Displaying the user's and their connections :"
   ]
  },
  {
   "cell_type": "code",
   "execution_count": 6,
   "id": "155c37ed-7094-49f6-ac0d-8872d6a6e0fb",
   "metadata": {},
   "outputs": [],
   "source": [
    "# Your manager has no idea how to read the json files, so this is you giving that json file in a more readable format"
   ]
  },
  {
   "cell_type": "code",
   "execution_count": 7,
   "id": "95c2141c-afc4-458b-b4e7-731632a7e071",
   "metadata": {},
   "outputs": [
    {
     "name": "stdout",
     "output_type": "stream",
     "text": [
      "User's and their connections are :\n",
      "ID: 1 Amit is friends with [2, 3] and liked pages are [101]\n",
      "ID: 2 Priya is friends with [1, 4] and liked pages are [102]\n",
      "ID: 3 Rahul is friends with [1] and liked pages are [101, 103]\n",
      "ID: 4 Sara is friends with [2] and liked pages are [104]\n",
      "\n",
      "Pages Information :\n",
      "ID: 101 - Python Developers\n",
      "ID: 102 - Data Science Enthusiasts\n",
      "ID: 103 - AI & ML Community\n",
      "ID: 104 - Web Dev Hub\n"
     ]
    }
   ],
   "source": [
    "def display_data(data):\n",
    "    print(\"User's and their connections are :\")\n",
    "    for user in data['users']:\n",
    "        print(f\"ID: {user['id']} {user['name']} is friends with {user['friends']} and liked pages are {user['liked_pages']}\")\n",
    "    print(\"\\nPages Information :\")\n",
    "    for page in data['pages']:\n",
    "        print(f\"ID: {page['id']} - {page['name']}\")   \n",
    "display_data(data)        "
   ]
  },
  {
   "cell_type": "markdown",
   "id": "c2d4158c-47d3-4dca-85af-b73e3b90c7ca",
   "metadata": {},
   "source": [
    "### Cleaning data-2.json :"
   ]
  },
  {
   "cell_type": "code",
   "execution_count": 8,
   "id": "aa9fddf1-2074-4ab5-8327-a3c84ef581d2",
   "metadata": {},
   "outputs": [
    {
     "name": "stdout",
     "output_type": "stream",
     "text": [
      "Data have been cleaned successfully\n"
     ]
    }
   ],
   "source": [
    "# Clean the data :\n",
    "def clean_data(data):\n",
    "    # Removing users with no name\n",
    "    data[\"users\"] = [user for user in data[\"users\"] if user[\"name\"].strip()]\n",
    "\n",
    "    # Removing the duplicate friends\n",
    "    for user in data[\"users\"]:\n",
    "        user[\"friends\"] = list(set(user[\"friends\"]))\n",
    "\n",
    "    # Removing the inactive users, users with no friends and liked pages\n",
    "    data[\"users\"] = [user for user in data[\"users\"] if user[\"friends\"] or user[\"liked_pages\"]];\n",
    "    \n",
    "    return data;\n",
    "\n",
    "# Load the data :\n",
    "data = json.load(open(\"data-2.json\"))\n",
    "data = clean_data(data)\n",
    "json.dump(data, open('cleanedData.json', \"w\"), indent = 4)  # indent is for beautification\n",
    "print(\"Data have been cleaned successfully\")"
   ]
  },
  {
   "cell_type": "markdown",
   "id": "ac7d48f5-ccd9-4a18-bd48-40d2e388ccf4",
   "metadata": {},
   "source": [
    "### Finding people you may know - Mutual friends :"
   ]
  },
  {
   "cell_type": "code",
   "execution_count": 9,
   "id": "58092946-4679-4c1e-834a-5b38dcf42e66",
   "metadata": {},
   "outputs": [],
   "source": [
    "# If user 1 knows user 2 and user 2 knows user 3, so there is chance that 1 may know 3, so as an application we must recommend 3 to 1"
   ]
  },
  {
   "cell_type": "code",
   "execution_count": 10,
   "id": "7a8ae005-35a5-4cfd-b75d-9ec33608f786",
   "metadata": {},
   "outputs": [
    {
     "name": "stdout",
     "output_type": "stream",
     "text": [
      "[1]\n"
     ]
    }
   ],
   "source": [
    "def load_data(filename):\n",
    "    with open(filename, \"r\") as f:\n",
    "        data = json.load(f)\n",
    "    return data\n",
    "\n",
    "def people_you_may_know(user_id, data):  # user_id - this is the user for which we have to find mutual friends\n",
    "    user_friends = {}\n",
    "    for user in data[\"users\"]:\n",
    "        user_friends[user[\"id\"]] = set(user[\"friends\"])\n",
    "\n",
    "    # Base condition\n",
    "    if user_id not in user_friends:\n",
    "        return []\n",
    "\n",
    "    direct_friends = user_friends[user_id]\n",
    "    \n",
    "    suggestions = {}\n",
    "    for friend in user_friends[user_id]:\n",
    "        for mutual in user_friends[friend]:\n",
    "            if mutual!=user_id and mutual not in direct_friends:\n",
    "                suggestions[mutual] = suggestions.get(mutual, 0) + 1\n",
    "    sorted_suggestions = sorted(suggestions.items(), key=lambda x:x[1], reverse=True)\n",
    "\n",
    "    return [uid for uid, mutualCount in sorted_suggestions]\n",
    "    \n",
    "\n",
    "id = 4\n",
    "d = load_data(\"data.json\")\n",
    "recc = people_you_may_know(id, d)\n",
    "print(recc)"
   ]
  },
  {
   "cell_type": "code",
   "execution_count": 15,
   "id": "3d578f00-ea34-48f6-ba45-37803a8f9eac",
   "metadata": {},
   "outputs": [
    {
     "name": "stdout",
     "output_type": "stream",
     "text": [
      "[103, 102, 104]\n"
     ]
    }
   ],
   "source": [
    "def load_data(filename):\n",
    "    with open(filename) as f:\n",
    "        data = json.load(f)\n",
    "    return data\n",
    "\n",
    "def pages_you_may_like(user_id, data):\n",
    "    user_pages = {}\n",
    "    for user in data[\"users\"]:\n",
    "        user_pages[user[\"id\"]] = set(user[\"liked_pages\"])\n",
    "\n",
    "    # Base condition\n",
    "    if user_id not in user_pages:\n",
    "        return []\n",
    "\n",
    "    direct_userLiked_pages = user_pages[user_id]\n",
    "    suggestions = {}\n",
    "    for other_user, pages in user_pages.items():\n",
    "        if other_user != user_id:\n",
    "            shared_pages = direct_userLiked_pages.intersection(pages)\n",
    "        for page in pages:\n",
    "            if page not in direct_userLiked_pages:\n",
    "                suggestions[page] = suggestions.get(page, 0) + len(shared_pages)\n",
    "    sorted_suggestions = sorted(suggestions.items(), key=lambda x:x[1], reverse=True)\n",
    "\n",
    "    return [page for page, mutualCount in sorted_suggestions]                    \n",
    "                    \n",
    "\n",
    "    \n",
    "da = load_data(\"data.json\") \n",
    "id = 1\n",
    "recc = pages_you_may_like(id, da)\n",
    "print(recc)"
   ]
  },
  {
   "cell_type": "code",
   "execution_count": null,
   "id": "c308fc4e-b732-4baa-93a2-0d2a7c0a5f17",
   "metadata": {},
   "outputs": [],
   "source": []
  }
 ],
 "metadata": {
  "kernelspec": {
   "display_name": "Python 3 (ipykernel)",
   "language": "python",
   "name": "python3"
  },
  "language_info": {
   "codemirror_mode": {
    "name": "ipython",
    "version": 3
   },
   "file_extension": ".py",
   "mimetype": "text/x-python",
   "name": "python",
   "nbconvert_exporter": "python",
   "pygments_lexer": "ipython3",
   "version": "3.13.5"
  }
 },
 "nbformat": 4,
 "nbformat_minor": 5
}
